{
  "nbformat": 4,
  "nbformat_minor": 0,
  "metadata": {
    "colab": {
      "provenance": []
    },
    "kernelspec": {
      "name": "python3",
      "display_name": "Python 3"
    },
    "language_info": {
      "name": "python"
    }
  },
  "cells": [
    {
      "cell_type": "code",
      "execution_count": null,
      "metadata": {
        "colab": {
          "base_uri": "https://localhost:8080/"
        },
        "id": "bykYr0Zxclaf",
        "outputId": "171528c3-0c9c-4235-bd3c-c9be58430470"
      },
      "outputs": [
        {
          "output_type": "stream",
          "name": "stdout",
          "text": [
            "Generated password: ~uT@*qDSg]@7;9wQ\n"
          ]
        }
      ],
      "source": [
        "import random\n",
        "import string\n",
        "\n",
        "def generate_password(length=12):\n",
        "    if length < 4:\n",
        "        raise ValueError(\"Password length should be at least 4 characters\")\n",
        "\n",
        "    # Define character sets\n",
        "    lowercase = string.ascii_lowercase\n",
        "    uppercase = string.ascii_uppercase\n",
        "    digits = string.digits\n",
        "    special = string.punctuation\n",
        "\n",
        "    # Ensure the password includes at least one character from each set\n",
        "    password = [\n",
        "        random.choice(lowercase),\n",
        "        random.choice(uppercase),\n",
        "        random.choice(digits),\n",
        "        random.choice(special)\n",
        "    ]\n",
        "\n",
        "    # Fill the rest of the password length with random choices from all sets\n",
        "    all_characters = lowercase + uppercase + digits + special\n",
        "    password += random.choices(all_characters, k=length-4)\n",
        "\n",
        "    # Shuffle the list to ensure random order\n",
        "    random.shuffle(password)\n",
        "\n",
        "    # Convert list to string and return\n",
        "    return ''.join(password)\n",
        "\n",
        "# Example usage\n",
        "password_length = 16\n",
        "password = generate_password(password_length)\n",
        "print(\"Generated password:\", password)\n"
      ]
    }
  ]
}